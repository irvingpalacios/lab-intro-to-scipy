{
 "cells": [
  {
   "cell_type": "markdown",
   "metadata": {
    "id": "JwERz5I9ybFM"
   },
   "source": [
    "# Before your start:\n",
    "- Read the README.md file\n",
    "- Comment as much as you can and use the resources (README.md file)\n",
    "- Happy learning!"
   ]
  },
  {
   "cell_type": "code",
   "execution_count": 8,
   "metadata": {
    "executionInfo": {
     "elapsed": 156,
     "status": "ok",
     "timestamp": 1622857724273,
     "user": {
      "displayName": "irving palacios",
      "photoUrl": "https://lh3.googleusercontent.com/a-/AOh14Gjw6M4LpzTUVro1G-5_aqYZYQhXb8NkvR-4cdiB=s64",
      "userId": "06814234566595318222"
     },
     "user_tz": 300
    },
    "id": "WZ85VltzybFU"
   },
   "outputs": [],
   "source": [
    "#import numpy and pandas\n",
    "\n",
    "import pandas as pd\n",
    "import numpy as np"
   ]
  },
  {
   "cell_type": "markdown",
   "metadata": {
    "id": "aYRCpZ2SybFW"
   },
   "source": [
    "# Challenge 1 - The `stats` Submodule\n",
    "\n",
    "This submodule contains statistical functions for conducting hypothesis tests, producing various distributions and other useful tools. Let's examine this submodule using the KickStarter dataset. We will load the dataset below."
   ]
  },
  {
   "cell_type": "code",
   "execution_count": 9,
   "metadata": {
    "executionInfo": {
     "elapsed": 20,
     "status": "ok",
     "timestamp": 1622857759818,
     "user": {
      "displayName": "irving palacios",
      "photoUrl": "https://lh3.googleusercontent.com/a-/AOh14Gjw6M4LpzTUVro1G-5_aqYZYQhXb8NkvR-4cdiB=s64",
      "userId": "06814234566595318222"
     },
     "user_tz": 300
    },
    "id": "gfkJrTdaybFW"
   },
   "outputs": [],
   "source": [
    "#Run this code in the PC:\n",
    "\n",
    "kickstarter = pd.read_csv('../ks-projects-201801.csv.zip')"
   ]
  },
  {
   "cell_type": "markdown",
   "metadata": {
    "id": "Jef0hbrlybFW"
   },
   "source": [
    "Now print the `head` function to examine the dataset."
   ]
  },
  {
   "cell_type": "code",
   "execution_count": 29,
   "metadata": {
    "colab": {
     "base_uri": "https://localhost:8080/"
    },
    "executionInfo": {
     "elapsed": 137,
     "status": "ok",
     "timestamp": 1622857763345,
     "user": {
      "displayName": "irving palacios",
      "photoUrl": "https://lh3.googleusercontent.com/a-/AOh14Gjw6M4LpzTUVro1G-5_aqYZYQhXb8NkvR-4cdiB=s64",
      "userId": "06814234566595318222"
     },
     "user_tz": 300
    },
    "id": "w6FIgwlkybFX",
    "outputId": "c09ea848-304a-43de-abd2-b4afcedabf6b"
   },
   "outputs": [
    {
     "data": {
      "text/html": [
       "<div>\n",
       "<style scoped>\n",
       "    .dataframe tbody tr th:only-of-type {\n",
       "        vertical-align: middle;\n",
       "    }\n",
       "\n",
       "    .dataframe tbody tr th {\n",
       "        vertical-align: top;\n",
       "    }\n",
       "\n",
       "    .dataframe thead th {\n",
       "        text-align: right;\n",
       "    }\n",
       "</style>\n",
       "<table border=\"1\" class=\"dataframe\">\n",
       "  <thead>\n",
       "    <tr style=\"text-align: right;\">\n",
       "      <th></th>\n",
       "      <th>ID</th>\n",
       "      <th>name</th>\n",
       "      <th>category</th>\n",
       "      <th>main_category</th>\n",
       "      <th>currency</th>\n",
       "      <th>deadline</th>\n",
       "      <th>goal</th>\n",
       "      <th>launched</th>\n",
       "      <th>pledged</th>\n",
       "      <th>state</th>\n",
       "      <th>backers</th>\n",
       "      <th>country</th>\n",
       "      <th>usd pledged</th>\n",
       "      <th>usd_pledged_real</th>\n",
       "      <th>usd_goal_real</th>\n",
       "      <th>goal_met</th>\n",
       "      <th>usd</th>\n",
       "    </tr>\n",
       "  </thead>\n",
       "  <tbody>\n",
       "    <tr>\n",
       "      <th>0</th>\n",
       "      <td>1000002330</td>\n",
       "      <td>The Songs of Adelaide &amp; Abullah</td>\n",
       "      <td>Poetry</td>\n",
       "      <td>Publishing</td>\n",
       "      <td>GBP</td>\n",
       "      <td>2015-10-09</td>\n",
       "      <td>1000.0</td>\n",
       "      <td>2015-08-11 12:12:28</td>\n",
       "      <td>0.00</td>\n",
       "      <td>failed</td>\n",
       "      <td>0</td>\n",
       "      <td>GB</td>\n",
       "      <td>0.00</td>\n",
       "      <td>0.00</td>\n",
       "      <td>1533.95</td>\n",
       "      <td>0</td>\n",
       "      <td>0</td>\n",
       "    </tr>\n",
       "    <tr>\n",
       "      <th>1</th>\n",
       "      <td>1000003930</td>\n",
       "      <td>Greeting From Earth: ZGAC Arts Capsule For ET</td>\n",
       "      <td>Narrative Film</td>\n",
       "      <td>Film &amp; Video</td>\n",
       "      <td>USD</td>\n",
       "      <td>2017-11-01</td>\n",
       "      <td>30000.0</td>\n",
       "      <td>2017-09-02 04:43:57</td>\n",
       "      <td>2421.00</td>\n",
       "      <td>failed</td>\n",
       "      <td>15</td>\n",
       "      <td>US</td>\n",
       "      <td>100.00</td>\n",
       "      <td>2421.00</td>\n",
       "      <td>30000.00</td>\n",
       "      <td>0</td>\n",
       "      <td>1</td>\n",
       "    </tr>\n",
       "    <tr>\n",
       "      <th>2</th>\n",
       "      <td>1000004038</td>\n",
       "      <td>Where is Hank?</td>\n",
       "      <td>Narrative Film</td>\n",
       "      <td>Film &amp; Video</td>\n",
       "      <td>USD</td>\n",
       "      <td>2013-02-26</td>\n",
       "      <td>45000.0</td>\n",
       "      <td>2013-01-12 00:20:50</td>\n",
       "      <td>220.00</td>\n",
       "      <td>failed</td>\n",
       "      <td>3</td>\n",
       "      <td>US</td>\n",
       "      <td>220.00</td>\n",
       "      <td>220.00</td>\n",
       "      <td>45000.00</td>\n",
       "      <td>0</td>\n",
       "      <td>1</td>\n",
       "    </tr>\n",
       "    <tr>\n",
       "      <th>3</th>\n",
       "      <td>1000007540</td>\n",
       "      <td>ToshiCapital Rekordz Needs Help to Complete Album</td>\n",
       "      <td>Music</td>\n",
       "      <td>Music</td>\n",
       "      <td>USD</td>\n",
       "      <td>2012-04-16</td>\n",
       "      <td>5000.0</td>\n",
       "      <td>2012-03-17 03:24:11</td>\n",
       "      <td>1.00</td>\n",
       "      <td>failed</td>\n",
       "      <td>1</td>\n",
       "      <td>US</td>\n",
       "      <td>1.00</td>\n",
       "      <td>1.00</td>\n",
       "      <td>5000.00</td>\n",
       "      <td>0</td>\n",
       "      <td>1</td>\n",
       "    </tr>\n",
       "    <tr>\n",
       "      <th>4</th>\n",
       "      <td>1000011046</td>\n",
       "      <td>Community Film Project: The Art of Neighborhoo...</td>\n",
       "      <td>Film &amp; Video</td>\n",
       "      <td>Film &amp; Video</td>\n",
       "      <td>USD</td>\n",
       "      <td>2015-08-29</td>\n",
       "      <td>19500.0</td>\n",
       "      <td>2015-07-04 08:35:03</td>\n",
       "      <td>1283.00</td>\n",
       "      <td>canceled</td>\n",
       "      <td>14</td>\n",
       "      <td>US</td>\n",
       "      <td>1283.00</td>\n",
       "      <td>1283.00</td>\n",
       "      <td>19500.00</td>\n",
       "      <td>0</td>\n",
       "      <td>1</td>\n",
       "    </tr>\n",
       "    <tr>\n",
       "      <th>5</th>\n",
       "      <td>1000014025</td>\n",
       "      <td>Monarch Espresso Bar</td>\n",
       "      <td>Restaurants</td>\n",
       "      <td>Food</td>\n",
       "      <td>USD</td>\n",
       "      <td>2016-04-01</td>\n",
       "      <td>50000.0</td>\n",
       "      <td>2016-02-26 13:38:27</td>\n",
       "      <td>52375.00</td>\n",
       "      <td>successful</td>\n",
       "      <td>224</td>\n",
       "      <td>US</td>\n",
       "      <td>52375.00</td>\n",
       "      <td>52375.00</td>\n",
       "      <td>50000.00</td>\n",
       "      <td>1</td>\n",
       "      <td>1</td>\n",
       "    </tr>\n",
       "    <tr>\n",
       "      <th>6</th>\n",
       "      <td>1000023410</td>\n",
       "      <td>Support Solar Roasted Coffee &amp; Green Energy!  ...</td>\n",
       "      <td>Food</td>\n",
       "      <td>Food</td>\n",
       "      <td>USD</td>\n",
       "      <td>2014-12-21</td>\n",
       "      <td>1000.0</td>\n",
       "      <td>2014-12-01 18:30:44</td>\n",
       "      <td>1205.00</td>\n",
       "      <td>successful</td>\n",
       "      <td>16</td>\n",
       "      <td>US</td>\n",
       "      <td>1205.00</td>\n",
       "      <td>1205.00</td>\n",
       "      <td>1000.00</td>\n",
       "      <td>1</td>\n",
       "      <td>1</td>\n",
       "    </tr>\n",
       "    <tr>\n",
       "      <th>7</th>\n",
       "      <td>1000030581</td>\n",
       "      <td>Chaser Strips. Our Strips make Shots their B*tch!</td>\n",
       "      <td>Drinks</td>\n",
       "      <td>Food</td>\n",
       "      <td>USD</td>\n",
       "      <td>2016-03-17</td>\n",
       "      <td>25000.0</td>\n",
       "      <td>2016-02-01 20:05:12</td>\n",
       "      <td>453.00</td>\n",
       "      <td>failed</td>\n",
       "      <td>40</td>\n",
       "      <td>US</td>\n",
       "      <td>453.00</td>\n",
       "      <td>453.00</td>\n",
       "      <td>25000.00</td>\n",
       "      <td>0</td>\n",
       "      <td>1</td>\n",
       "    </tr>\n",
       "    <tr>\n",
       "      <th>8</th>\n",
       "      <td>1000034518</td>\n",
       "      <td>SPIN - Premium Retractable In-Ear Headphones w...</td>\n",
       "      <td>Product Design</td>\n",
       "      <td>Design</td>\n",
       "      <td>USD</td>\n",
       "      <td>2014-05-29</td>\n",
       "      <td>125000.0</td>\n",
       "      <td>2014-04-24 18:14:43</td>\n",
       "      <td>8233.00</td>\n",
       "      <td>canceled</td>\n",
       "      <td>58</td>\n",
       "      <td>US</td>\n",
       "      <td>8233.00</td>\n",
       "      <td>8233.00</td>\n",
       "      <td>125000.00</td>\n",
       "      <td>0</td>\n",
       "      <td>1</td>\n",
       "    </tr>\n",
       "    <tr>\n",
       "      <th>9</th>\n",
       "      <td>100004195</td>\n",
       "      <td>STUDIO IN THE SKY - A Documentary Feature Film...</td>\n",
       "      <td>Documentary</td>\n",
       "      <td>Film &amp; Video</td>\n",
       "      <td>USD</td>\n",
       "      <td>2014-08-10</td>\n",
       "      <td>65000.0</td>\n",
       "      <td>2014-07-11 21:55:48</td>\n",
       "      <td>6240.57</td>\n",
       "      <td>canceled</td>\n",
       "      <td>43</td>\n",
       "      <td>US</td>\n",
       "      <td>6240.57</td>\n",
       "      <td>6240.57</td>\n",
       "      <td>65000.00</td>\n",
       "      <td>0</td>\n",
       "      <td>1</td>\n",
       "    </tr>\n",
       "  </tbody>\n",
       "</table>\n",
       "</div>"
      ],
      "text/plain": [
       "           ID                                               name  \\\n",
       "0  1000002330                    The Songs of Adelaide & Abullah   \n",
       "1  1000003930      Greeting From Earth: ZGAC Arts Capsule For ET   \n",
       "2  1000004038                                     Where is Hank?   \n",
       "3  1000007540  ToshiCapital Rekordz Needs Help to Complete Album   \n",
       "4  1000011046  Community Film Project: The Art of Neighborhoo...   \n",
       "5  1000014025                               Monarch Espresso Bar   \n",
       "6  1000023410  Support Solar Roasted Coffee & Green Energy!  ...   \n",
       "7  1000030581  Chaser Strips. Our Strips make Shots their B*tch!   \n",
       "8  1000034518  SPIN - Premium Retractable In-Ear Headphones w...   \n",
       "9   100004195  STUDIO IN THE SKY - A Documentary Feature Film...   \n",
       "\n",
       "         category main_category currency    deadline      goal  \\\n",
       "0          Poetry    Publishing      GBP  2015-10-09    1000.0   \n",
       "1  Narrative Film  Film & Video      USD  2017-11-01   30000.0   \n",
       "2  Narrative Film  Film & Video      USD  2013-02-26   45000.0   \n",
       "3           Music         Music      USD  2012-04-16    5000.0   \n",
       "4    Film & Video  Film & Video      USD  2015-08-29   19500.0   \n",
       "5     Restaurants          Food      USD  2016-04-01   50000.0   \n",
       "6            Food          Food      USD  2014-12-21    1000.0   \n",
       "7          Drinks          Food      USD  2016-03-17   25000.0   \n",
       "8  Product Design        Design      USD  2014-05-29  125000.0   \n",
       "9     Documentary  Film & Video      USD  2014-08-10   65000.0   \n",
       "\n",
       "              launched   pledged       state  backers country  usd pledged  \\\n",
       "0  2015-08-11 12:12:28      0.00      failed        0      GB         0.00   \n",
       "1  2017-09-02 04:43:57   2421.00      failed       15      US       100.00   \n",
       "2  2013-01-12 00:20:50    220.00      failed        3      US       220.00   \n",
       "3  2012-03-17 03:24:11      1.00      failed        1      US         1.00   \n",
       "4  2015-07-04 08:35:03   1283.00    canceled       14      US      1283.00   \n",
       "5  2016-02-26 13:38:27  52375.00  successful      224      US     52375.00   \n",
       "6  2014-12-01 18:30:44   1205.00  successful       16      US      1205.00   \n",
       "7  2016-02-01 20:05:12    453.00      failed       40      US       453.00   \n",
       "8  2014-04-24 18:14:43   8233.00    canceled       58      US      8233.00   \n",
       "9  2014-07-11 21:55:48   6240.57    canceled       43      US      6240.57   \n",
       "\n",
       "   usd_pledged_real  usd_goal_real  goal_met  usd  \n",
       "0              0.00        1533.95         0    0  \n",
       "1           2421.00       30000.00         0    1  \n",
       "2            220.00       45000.00         0    1  \n",
       "3              1.00        5000.00         0    1  \n",
       "4           1283.00       19500.00         0    1  \n",
       "5          52375.00       50000.00         1    1  \n",
       "6           1205.00        1000.00         1    1  \n",
       "7            453.00       25000.00         0    1  \n",
       "8           8233.00      125000.00         0    1  \n",
       "9           6240.57       65000.00         0    1  "
      ]
     },
     "execution_count": 29,
     "metadata": {},
     "output_type": "execute_result"
    }
   ],
   "source": [
    "# Your code here:\n",
    "\n",
    "kickstarter.head(10)"
   ]
  },
  {
   "cell_type": "code",
   "execution_count": 11,
   "metadata": {
    "colab": {
     "base_uri": "https://localhost:8080/",
     "height": 258
    },
    "executionInfo": {
     "elapsed": 367,
     "status": "ok",
     "timestamp": 1622857763588,
     "user": {
      "displayName": "irving palacios",
      "photoUrl": "https://lh3.googleusercontent.com/a-/AOh14Gjw6M4LpzTUVro1G-5_aqYZYQhXb8NkvR-4cdiB=s64",
      "userId": "06814234566595318222"
     },
     "user_tz": 300
    },
    "id": "r4F3uTRI0wMu",
    "outputId": "1aa5fb24-27dc-4a1e-9624-ba9c0fbafec4"
   },
   "outputs": [
    {
     "data": {
      "text/html": [
       "<div>\n",
       "<style scoped>\n",
       "    .dataframe tbody tr th:only-of-type {\n",
       "        vertical-align: middle;\n",
       "    }\n",
       "\n",
       "    .dataframe tbody tr th {\n",
       "        vertical-align: top;\n",
       "    }\n",
       "\n",
       "    .dataframe thead th {\n",
       "        text-align: right;\n",
       "    }\n",
       "</style>\n",
       "<table border=\"1\" class=\"dataframe\">\n",
       "  <thead>\n",
       "    <tr style=\"text-align: right;\">\n",
       "      <th></th>\n",
       "      <th>count</th>\n",
       "      <th>mean</th>\n",
       "      <th>std</th>\n",
       "      <th>min</th>\n",
       "      <th>25%</th>\n",
       "      <th>50%</th>\n",
       "      <th>75%</th>\n",
       "      <th>max</th>\n",
       "    </tr>\n",
       "  </thead>\n",
       "  <tbody>\n",
       "    <tr>\n",
       "      <th>ID</th>\n",
       "      <td>378661.0</td>\n",
       "      <td>1.074731e+09</td>\n",
       "      <td>6.190862e+08</td>\n",
       "      <td>5971.00</td>\n",
       "      <td>5.382635e+08</td>\n",
       "      <td>1.075276e+09</td>\n",
       "      <td>1.610149e+09</td>\n",
       "      <td>2.147476e+09</td>\n",
       "    </tr>\n",
       "    <tr>\n",
       "      <th>goal</th>\n",
       "      <td>378661.0</td>\n",
       "      <td>4.908079e+04</td>\n",
       "      <td>1.183391e+06</td>\n",
       "      <td>0.01</td>\n",
       "      <td>2.000000e+03</td>\n",
       "      <td>5.200000e+03</td>\n",
       "      <td>1.600000e+04</td>\n",
       "      <td>1.000000e+08</td>\n",
       "    </tr>\n",
       "    <tr>\n",
       "      <th>pledged</th>\n",
       "      <td>378661.0</td>\n",
       "      <td>9.682979e+03</td>\n",
       "      <td>9.563601e+04</td>\n",
       "      <td>0.00</td>\n",
       "      <td>3.000000e+01</td>\n",
       "      <td>6.200000e+02</td>\n",
       "      <td>4.076000e+03</td>\n",
       "      <td>2.033899e+07</td>\n",
       "    </tr>\n",
       "    <tr>\n",
       "      <th>backers</th>\n",
       "      <td>378661.0</td>\n",
       "      <td>1.056175e+02</td>\n",
       "      <td>9.071850e+02</td>\n",
       "      <td>0.00</td>\n",
       "      <td>2.000000e+00</td>\n",
       "      <td>1.200000e+01</td>\n",
       "      <td>5.600000e+01</td>\n",
       "      <td>2.193820e+05</td>\n",
       "    </tr>\n",
       "    <tr>\n",
       "      <th>usd pledged</th>\n",
       "      <td>374864.0</td>\n",
       "      <td>7.036729e+03</td>\n",
       "      <td>7.863975e+04</td>\n",
       "      <td>0.00</td>\n",
       "      <td>1.698000e+01</td>\n",
       "      <td>3.947200e+02</td>\n",
       "      <td>3.034090e+03</td>\n",
       "      <td>2.033899e+07</td>\n",
       "    </tr>\n",
       "    <tr>\n",
       "      <th>usd_pledged_real</th>\n",
       "      <td>378661.0</td>\n",
       "      <td>9.058924e+03</td>\n",
       "      <td>9.097334e+04</td>\n",
       "      <td>0.00</td>\n",
       "      <td>3.100000e+01</td>\n",
       "      <td>6.243300e+02</td>\n",
       "      <td>4.050000e+03</td>\n",
       "      <td>2.033899e+07</td>\n",
       "    </tr>\n",
       "    <tr>\n",
       "      <th>usd_goal_real</th>\n",
       "      <td>378661.0</td>\n",
       "      <td>4.545440e+04</td>\n",
       "      <td>1.152950e+06</td>\n",
       "      <td>0.01</td>\n",
       "      <td>2.000000e+03</td>\n",
       "      <td>5.500000e+03</td>\n",
       "      <td>1.550000e+04</td>\n",
       "      <td>1.663614e+08</td>\n",
       "    </tr>\n",
       "  </tbody>\n",
       "</table>\n",
       "</div>"
      ],
      "text/plain": [
       "                     count          mean           std      min           25%  \\\n",
       "ID                378661.0  1.074731e+09  6.190862e+08  5971.00  5.382635e+08   \n",
       "goal              378661.0  4.908079e+04  1.183391e+06     0.01  2.000000e+03   \n",
       "pledged           378661.0  9.682979e+03  9.563601e+04     0.00  3.000000e+01   \n",
       "backers           378661.0  1.056175e+02  9.071850e+02     0.00  2.000000e+00   \n",
       "usd pledged       374864.0  7.036729e+03  7.863975e+04     0.00  1.698000e+01   \n",
       "usd_pledged_real  378661.0  9.058924e+03  9.097334e+04     0.00  3.100000e+01   \n",
       "usd_goal_real     378661.0  4.545440e+04  1.152950e+06     0.01  2.000000e+03   \n",
       "\n",
       "                           50%           75%           max  \n",
       "ID                1.075276e+09  1.610149e+09  2.147476e+09  \n",
       "goal              5.200000e+03  1.600000e+04  1.000000e+08  \n",
       "pledged           6.200000e+02  4.076000e+03  2.033899e+07  \n",
       "backers           1.200000e+01  5.600000e+01  2.193820e+05  \n",
       "usd pledged       3.947200e+02  3.034090e+03  2.033899e+07  \n",
       "usd_pledged_real  6.243300e+02  4.050000e+03  2.033899e+07  \n",
       "usd_goal_real     5.500000e+03  1.550000e+04  1.663614e+08  "
      ]
     },
     "execution_count": 11,
     "metadata": {},
     "output_type": "execute_result"
    }
   ],
   "source": [
    "kickstarter.describe().T"
   ]
  },
  {
   "cell_type": "markdown",
   "metadata": {
    "id": "qW6NkpgFybFX"
   },
   "source": [
    "Import the `mode` function from `scipy.stats` and find the mode of the `country` and `currency` column."
   ]
  },
  {
   "cell_type": "code",
   "execution_count": 12,
   "metadata": {
    "colab": {
     "base_uri": "https://localhost:8080/"
    },
    "executionInfo": {
     "elapsed": 56329,
     "status": "ok",
     "timestamp": 1622857819902,
     "user": {
      "displayName": "irving palacios",
      "photoUrl": "https://lh3.googleusercontent.com/a-/AOh14Gjw6M4LpzTUVro1G-5_aqYZYQhXb8NkvR-4cdiB=s64",
      "userId": "06814234566595318222"
     },
     "user_tz": 300
    },
    "id": "J0Lv2hmFybFX",
    "outputId": "47ce24da-62e9-440d-84be-1cee6e11a7e2"
   },
   "outputs": [
    {
     "name": "stdout",
     "output_type": "stream",
     "text": [
      "The currency mode is: ModeResult(mode=array(['USD'], dtype=object), count=array([295365]))\n",
      "The country mode is: ModeResult(mode=array(['US'], dtype=object), count=array([292627]))\n"
     ]
    }
   ],
   "source": [
    "# Your code here:\n",
    "import matplotlib.pyplot as plt\n",
    "import numpy as np\n",
    "from scipy.stats import mode\n",
    "\n",
    "\n",
    "a= mode(kickstarter['currency'])\n",
    "b= mode(kickstarter['country'])\n",
    "\n",
    "\n",
    "print(\"The currency mode is:\",a)\n",
    "\n",
    "print(\"The country mode is:\",b)\n",
    "\n"
   ]
  },
  {
   "cell_type": "markdown",
   "metadata": {
    "id": "sJHFN3amybFY"
   },
   "source": [
    "The trimmed mean is a function that computes the mean of the data with observations removed. The most common way to compute a trimmed mean is by specifying a percentage and then removing elements from both ends. However, we can also specify a threshold on both ends. The goal of this function is to create a more robust method of computing the mean that is less influenced by outliers. SciPy contains a function called `tmean` for computing the trimmed mean. \n",
    "\n",
    "In the cell below, import the `tmean` function and then find the 75th percentile of the `goal` column. Compute the trimmed mean between 0 and the 75th percentile of the column. Read more about the `tmean` function [here](https://docs.scipy.org/doc/scipy/reference/generated/scipy.stats.tmean.html#scipy.stats.tmean)."
   ]
  },
  {
   "cell_type": "code",
   "execution_count": 13,
   "metadata": {
    "colab": {
     "base_uri": "https://localhost:8080/"
    },
    "executionInfo": {
     "elapsed": 67,
     "status": "ok",
     "timestamp": 1622857819904,
     "user": {
      "displayName": "irving palacios",
      "photoUrl": "https://lh3.googleusercontent.com/a-/AOh14Gjw6M4LpzTUVro1G-5_aqYZYQhXb8NkvR-4cdiB=s64",
      "userId": "06814234566595318222"
     },
     "user_tz": 300
    },
    "id": "EbhMeAtuybFY",
    "outputId": "179de67c-d37f-4298-ed3f-04cf43da1ea4"
   },
   "outputs": [
    {
     "name": "stdout",
     "output_type": "stream",
     "text": [
      "4874.150287106898\n"
     ]
    }
   ],
   "source": [
    "# Your code here:\n",
    "\n",
    "from scipy.stats import tmean\n",
    "from scipy.stats import scoreatpercentile\n",
    "\n",
    "percentile75=scoreatpercentile(kickstarter['goal'], 75)\n",
    "percentile75\n",
    "\n",
    "print(tmean(kickstarter['goal'], (0,percentile75)))"
   ]
  },
  {
   "cell_type": "markdown",
   "metadata": {
    "id": "IRa1vXULybFY"
   },
   "source": [
    "#### SciPy contains various statistical tests. One of the tests is Fisher's exact test. This test is used for contingency tables. \n",
    "\n",
    "The test originates from the \"Lady Tasting Tea\" experiment. In 1935, Fisher published the results of the experiment in his book. The experiment was based on a claim by Muriel Bristol that she can taste whether tea or milk was first poured into the cup. Fisher devised this test to disprove her claim. The null hypothesis is that the treatments do not affect outcomes, while the alternative hypothesis is that the treatment does affect outcome. To read more about Fisher's exact test, click [here](https://en.wikipedia.org/wiki/Fisher%27s_exact_test).\n",
    "\n",
    "Let's perform Fisher's exact test on our KickStarter data. We intend to test the hypothesis that the choice of currency has an impact on meeting the pledge goal. We'll start by creating two derived columns in our dataframe. The first will contain 1 if the amount of money in `usd_pledged_real` is greater than the amount of money in `usd_goal_real`. We can compute this by using the `np.where` function. If the amount in one column is greater than the other, enter a value of 1, otherwise enter a value of zero. Add this column to the dataframe and name it `goal_met`."
   ]
  },
  {
   "cell_type": "code",
   "execution_count": 14,
   "metadata": {
    "executionInfo": {
     "elapsed": 60,
     "status": "ok",
     "timestamp": 1622857819905,
     "user": {
      "displayName": "irving palacios",
      "photoUrl": "https://lh3.googleusercontent.com/a-/AOh14Gjw6M4LpzTUVro1G-5_aqYZYQhXb8NkvR-4cdiB=s64",
      "userId": "06814234566595318222"
     },
     "user_tz": 300
    },
    "id": "4jOqG7zwybFZ"
   },
   "outputs": [],
   "source": [
    "# Your code here:\n",
    "\n",
    "kickstarter['goal_met']=np.where(kickstarter.usd_pledged_real>kickstarter.usd_goal_real,1,0)"
   ]
  },
  {
   "cell_type": "markdown",
   "metadata": {
    "id": "LCWWH6AnybFZ"
   },
   "source": [
    "Next, create a column that checks whether the currency of the project is in US Dollars. Create a column called `usd` using the `np.where` function where if the currency is US Dollars, assign a value of 1 to the row and 0 otherwise."
   ]
  },
  {
   "cell_type": "code",
   "execution_count": 15,
   "metadata": {
    "executionInfo": {
     "elapsed": 50,
     "status": "ok",
     "timestamp": 1622857819906,
     "user": {
      "displayName": "irving palacios",
      "photoUrl": "https://lh3.googleusercontent.com/a-/AOh14Gjw6M4LpzTUVro1G-5_aqYZYQhXb8NkvR-4cdiB=s64",
      "userId": "06814234566595318222"
     },
     "user_tz": 300
    },
    "id": "O_Upav21ybFZ"
   },
   "outputs": [],
   "source": [
    "# Your code here:\n",
    "\n",
    "kickstarter['usd']=np.where(kickstarter.currency=='USD',1,0)"
   ]
  },
  {
   "cell_type": "code",
   "execution_count": 28,
   "metadata": {
    "colab": {
     "base_uri": "https://localhost:8080/"
    },
    "executionInfo": {
     "elapsed": 49,
     "status": "ok",
     "timestamp": 1622857819907,
     "user": {
      "displayName": "irving palacios",
      "photoUrl": "https://lh3.googleusercontent.com/a-/AOh14Gjw6M4LpzTUVro1G-5_aqYZYQhXb8NkvR-4cdiB=s64",
      "userId": "06814234566595318222"
     },
     "user_tz": 300
    },
    "id": "_NKKThkpMKMs",
    "outputId": "19746eab-5760-4a2f-96e4-d7842c7a5e99"
   },
   "outputs": [
    {
     "data": {
      "text/html": [
       "<div>\n",
       "<style scoped>\n",
       "    .dataframe tbody tr th:only-of-type {\n",
       "        vertical-align: middle;\n",
       "    }\n",
       "\n",
       "    .dataframe tbody tr th {\n",
       "        vertical-align: top;\n",
       "    }\n",
       "\n",
       "    .dataframe thead th {\n",
       "        text-align: right;\n",
       "    }\n",
       "</style>\n",
       "<table border=\"1\" class=\"dataframe\">\n",
       "  <thead>\n",
       "    <tr style=\"text-align: right;\">\n",
       "      <th></th>\n",
       "      <th>ID</th>\n",
       "      <th>name</th>\n",
       "      <th>category</th>\n",
       "      <th>main_category</th>\n",
       "      <th>currency</th>\n",
       "      <th>deadline</th>\n",
       "      <th>goal</th>\n",
       "      <th>launched</th>\n",
       "      <th>pledged</th>\n",
       "      <th>state</th>\n",
       "      <th>backers</th>\n",
       "      <th>country</th>\n",
       "      <th>usd pledged</th>\n",
       "      <th>usd_pledged_real</th>\n",
       "      <th>usd_goal_real</th>\n",
       "      <th>goal_met</th>\n",
       "      <th>usd</th>\n",
       "    </tr>\n",
       "  </thead>\n",
       "  <tbody>\n",
       "    <tr>\n",
       "      <th>0</th>\n",
       "      <td>1000002330</td>\n",
       "      <td>The Songs of Adelaide &amp; Abullah</td>\n",
       "      <td>Poetry</td>\n",
       "      <td>Publishing</td>\n",
       "      <td>GBP</td>\n",
       "      <td>2015-10-09</td>\n",
       "      <td>1000.0</td>\n",
       "      <td>2015-08-11 12:12:28</td>\n",
       "      <td>0.0</td>\n",
       "      <td>failed</td>\n",
       "      <td>0</td>\n",
       "      <td>GB</td>\n",
       "      <td>0.0</td>\n",
       "      <td>0.0</td>\n",
       "      <td>1533.95</td>\n",
       "      <td>0</td>\n",
       "      <td>0</td>\n",
       "    </tr>\n",
       "    <tr>\n",
       "      <th>1</th>\n",
       "      <td>1000003930</td>\n",
       "      <td>Greeting From Earth: ZGAC Arts Capsule For ET</td>\n",
       "      <td>Narrative Film</td>\n",
       "      <td>Film &amp; Video</td>\n",
       "      <td>USD</td>\n",
       "      <td>2017-11-01</td>\n",
       "      <td>30000.0</td>\n",
       "      <td>2017-09-02 04:43:57</td>\n",
       "      <td>2421.0</td>\n",
       "      <td>failed</td>\n",
       "      <td>15</td>\n",
       "      <td>US</td>\n",
       "      <td>100.0</td>\n",
       "      <td>2421.0</td>\n",
       "      <td>30000.00</td>\n",
       "      <td>0</td>\n",
       "      <td>1</td>\n",
       "    </tr>\n",
       "    <tr>\n",
       "      <th>2</th>\n",
       "      <td>1000004038</td>\n",
       "      <td>Where is Hank?</td>\n",
       "      <td>Narrative Film</td>\n",
       "      <td>Film &amp; Video</td>\n",
       "      <td>USD</td>\n",
       "      <td>2013-02-26</td>\n",
       "      <td>45000.0</td>\n",
       "      <td>2013-01-12 00:20:50</td>\n",
       "      <td>220.0</td>\n",
       "      <td>failed</td>\n",
       "      <td>3</td>\n",
       "      <td>US</td>\n",
       "      <td>220.0</td>\n",
       "      <td>220.0</td>\n",
       "      <td>45000.00</td>\n",
       "      <td>0</td>\n",
       "      <td>1</td>\n",
       "    </tr>\n",
       "    <tr>\n",
       "      <th>3</th>\n",
       "      <td>1000007540</td>\n",
       "      <td>ToshiCapital Rekordz Needs Help to Complete Album</td>\n",
       "      <td>Music</td>\n",
       "      <td>Music</td>\n",
       "      <td>USD</td>\n",
       "      <td>2012-04-16</td>\n",
       "      <td>5000.0</td>\n",
       "      <td>2012-03-17 03:24:11</td>\n",
       "      <td>1.0</td>\n",
       "      <td>failed</td>\n",
       "      <td>1</td>\n",
       "      <td>US</td>\n",
       "      <td>1.0</td>\n",
       "      <td>1.0</td>\n",
       "      <td>5000.00</td>\n",
       "      <td>0</td>\n",
       "      <td>1</td>\n",
       "    </tr>\n",
       "    <tr>\n",
       "      <th>4</th>\n",
       "      <td>1000011046</td>\n",
       "      <td>Community Film Project: The Art of Neighborhoo...</td>\n",
       "      <td>Film &amp; Video</td>\n",
       "      <td>Film &amp; Video</td>\n",
       "      <td>USD</td>\n",
       "      <td>2015-08-29</td>\n",
       "      <td>19500.0</td>\n",
       "      <td>2015-07-04 08:35:03</td>\n",
       "      <td>1283.0</td>\n",
       "      <td>canceled</td>\n",
       "      <td>14</td>\n",
       "      <td>US</td>\n",
       "      <td>1283.0</td>\n",
       "      <td>1283.0</td>\n",
       "      <td>19500.00</td>\n",
       "      <td>0</td>\n",
       "      <td>1</td>\n",
       "    </tr>\n",
       "  </tbody>\n",
       "</table>\n",
       "</div>"
      ],
      "text/plain": [
       "           ID                                               name  \\\n",
       "0  1000002330                    The Songs of Adelaide & Abullah   \n",
       "1  1000003930      Greeting From Earth: ZGAC Arts Capsule For ET   \n",
       "2  1000004038                                     Where is Hank?   \n",
       "3  1000007540  ToshiCapital Rekordz Needs Help to Complete Album   \n",
       "4  1000011046  Community Film Project: The Art of Neighborhoo...   \n",
       "\n",
       "         category main_category currency    deadline     goal  \\\n",
       "0          Poetry    Publishing      GBP  2015-10-09   1000.0   \n",
       "1  Narrative Film  Film & Video      USD  2017-11-01  30000.0   \n",
       "2  Narrative Film  Film & Video      USD  2013-02-26  45000.0   \n",
       "3           Music         Music      USD  2012-04-16   5000.0   \n",
       "4    Film & Video  Film & Video      USD  2015-08-29  19500.0   \n",
       "\n",
       "              launched  pledged     state  backers country  usd pledged  \\\n",
       "0  2015-08-11 12:12:28      0.0    failed        0      GB          0.0   \n",
       "1  2017-09-02 04:43:57   2421.0    failed       15      US        100.0   \n",
       "2  2013-01-12 00:20:50    220.0    failed        3      US        220.0   \n",
       "3  2012-03-17 03:24:11      1.0    failed        1      US          1.0   \n",
       "4  2015-07-04 08:35:03   1283.0  canceled       14      US       1283.0   \n",
       "\n",
       "   usd_pledged_real  usd_goal_real  goal_met  usd  \n",
       "0               0.0        1533.95         0    0  \n",
       "1            2421.0       30000.00         0    1  \n",
       "2             220.0       45000.00         0    1  \n",
       "3               1.0        5000.00         0    1  \n",
       "4            1283.0       19500.00         0    1  "
      ]
     },
     "execution_count": 28,
     "metadata": {},
     "output_type": "execute_result"
    }
   ],
   "source": [
    "kickstarter.head()"
   ]
  },
  {
   "cell_type": "markdown",
   "metadata": {
    "id": "pFdjJP1sybFZ"
   },
   "source": [
    "Now create a contingency table using the `pd.crosstab` function in the cell below to compare the `goal_met` and `usd` columns."
   ]
  },
  {
   "cell_type": "markdown",
   "metadata": {
    "id": "YBP46gUTybFa"
   },
   "source": [
    "Import the `fisher_exact` function from `scipy.stats` and conduct the hypothesis test on the contingency table that you have generated above. You can read more about the `fisher_exact` function [here](https://docs.scipy.org/doc/scipy/reference/generated/scipy.stats.fisher_exact.html#scipy.stats.fisher_exact). The output of the function should be the odds ratio and the p-value. The p-value will provide you with the outcome of the test."
   ]
  },
  {
   "cell_type": "code",
   "execution_count": 17,
   "metadata": {
    "colab": {
     "base_uri": "https://localhost:8080/",
     "height": 138
    },
    "executionInfo": {
     "elapsed": 485,
     "status": "ok",
     "timestamp": 1622857820352,
     "user": {
      "displayName": "irving palacios",
      "photoUrl": "https://lh3.googleusercontent.com/a-/AOh14Gjw6M4LpzTUVro1G-5_aqYZYQhXb8NkvR-4cdiB=s64",
      "userId": "06814234566595318222"
     },
     "user_tz": 300
    },
    "id": "ysBtITvOybFa",
    "outputId": "7aa5ba6e-ca1f-4696-b60b-1a167dbdeeed"
   },
   "outputs": [
    {
     "data": {
      "text/html": [
       "<div>\n",
       "<style scoped>\n",
       "    .dataframe tbody tr th:only-of-type {\n",
       "        vertical-align: middle;\n",
       "    }\n",
       "\n",
       "    .dataframe tbody tr th {\n",
       "        vertical-align: top;\n",
       "    }\n",
       "\n",
       "    .dataframe thead th {\n",
       "        text-align: right;\n",
       "    }\n",
       "</style>\n",
       "<table border=\"1\" class=\"dataframe\">\n",
       "  <thead>\n",
       "    <tr style=\"text-align: right;\">\n",
       "      <th>Currency - USD</th>\n",
       "      <th>0</th>\n",
       "      <th>1</th>\n",
       "    </tr>\n",
       "    <tr>\n",
       "      <th>Goal Met</th>\n",
       "      <th></th>\n",
       "      <th></th>\n",
       "    </tr>\n",
       "  </thead>\n",
       "  <tbody>\n",
       "    <tr>\n",
       "      <th>0</th>\n",
       "      <td>58685</td>\n",
       "      <td>187130</td>\n",
       "    </tr>\n",
       "    <tr>\n",
       "      <th>1</th>\n",
       "      <td>24611</td>\n",
       "      <td>108235</td>\n",
       "    </tr>\n",
       "  </tbody>\n",
       "</table>\n",
       "</div>"
      ],
      "text/plain": [
       "Currency - USD      0       1\n",
       "Goal Met                     \n",
       "0               58685  187130\n",
       "1               24611  108235"
      ]
     },
     "execution_count": 17,
     "metadata": {},
     "output_type": "execute_result"
    }
   ],
   "source": [
    "# Your code here:\n",
    "\n",
    "from scipy.stats import fisher_exact\n",
    "test = pd.crosstab(kickstarter.goal_met, kickstarter.usd, rownames=['Goal Met'], colnames=['Currency - USD'])\n",
    "test\n"
   ]
  },
  {
   "cell_type": "code",
   "execution_count": 18,
   "metadata": {
    "colab": {
     "base_uri": "https://localhost:8080/"
    },
    "executionInfo": {
     "elapsed": 9670,
     "status": "ok",
     "timestamp": 1622857829999,
     "user": {
      "displayName": "irving palacios",
      "photoUrl": "https://lh3.googleusercontent.com/a-/AOh14Gjw6M4LpzTUVro1G-5_aqYZYQhXb8NkvR-4cdiB=s64",
      "userId": "06814234566595318222"
     },
     "user_tz": 300
    },
    "id": "99mB5xl5Zq52",
    "outputId": "4cc4fe9a-56da-4980-f238-55ce5f9ec0bd"
   },
   "outputs": [
    {
     "data": {
      "text/plain": [
       "9.78e-321"
      ]
     },
     "execution_count": 18,
     "metadata": {},
     "output_type": "execute_result"
    }
   ],
   "source": [
    "oddsratio, pvalue = fisher_exact(test)\n",
    "pvalue"
   ]
  },
  {
   "cell_type": "code",
   "execution_count": 19,
   "metadata": {
    "colab": {
     "base_uri": "https://localhost:8080/"
    },
    "executionInfo": {
     "elapsed": 9605,
     "status": "ok",
     "timestamp": 1622857839584,
     "user": {
      "displayName": "irving palacios",
      "photoUrl": "https://lh3.googleusercontent.com/a-/AOh14Gjw6M4LpzTUVro1G-5_aqYZYQhXb8NkvR-4cdiB=s64",
      "userId": "06814234566595318222"
     },
     "user_tz": 300
    },
    "id": "haYPaa0xcASw",
    "outputId": "2fa2d4fe-60f3-4aca-cb1c-0329534bd742"
   },
   "outputs": [
    {
     "name": "stdout",
     "output_type": "stream",
     "text": [
      "\n",
      "\n",
      " goal_met           0       1\n",
      "Currency-USD                \n",
      "0              58685   24611\n",
      "1             187130  108235 \n",
      "\n",
      "\n"
     ]
    },
    {
     "data": {
      "text/plain": [
       "9.78e-321"
      ]
     },
     "execution_count": 19,
     "metadata": {},
     "output_type": "execute_result"
    }
   ],
   "source": [
    "test2 = pd.crosstab(kickstarter.usd, kickstarter.goal_met, rownames=['Currency-USD'], colnames=['goal_met'])\n",
    "print(\"\\n\\n\",test2,\"\\n\\n\")\n",
    "\n",
    "oddsratio, pvalue = fisher_exact(test2)\n",
    "pvalue"
   ]
  },
  {
   "cell_type": "markdown",
   "metadata": {
    "id": "qnNJDzuhybFa"
   },
   "source": [
    "# Challenge 2 - The `linalg` submodule\n",
    "\n",
    "This submodule allows us to perform various linear algebra calculations. \n",
    "\n",
    "Using the solve function, find the solution of the equation system 5x + 2y = 3 and 3x + y = 2 in the cell below."
   ]
  },
  {
   "cell_type": "code",
   "execution_count": 20,
   "metadata": {
    "executionInfo": {
     "elapsed": 64,
     "status": "ok",
     "timestamp": 1622857839594,
     "user": {
      "displayName": "irving palacios",
      "photoUrl": "https://lh3.googleusercontent.com/a-/AOh14Gjw6M4LpzTUVro1G-5_aqYZYQhXb8NkvR-4cdiB=s64",
      "userId": "06814234566595318222"
     },
     "user_tz": 300
    },
    "id": "ljzl6y75dsY6"
   },
   "outputs": [],
   "source": [
    "from scipy.linalg import solve"
   ]
  },
  {
   "cell_type": "code",
   "execution_count": 21,
   "metadata": {
    "colab": {
     "base_uri": "https://localhost:8080/"
    },
    "executionInfo": {
     "elapsed": 72,
     "status": "ok",
     "timestamp": 1622857839606,
     "user": {
      "displayName": "irving palacios",
      "photoUrl": "https://lh3.googleusercontent.com/a-/AOh14Gjw6M4LpzTUVro1G-5_aqYZYQhXb8NkvR-4cdiB=s64",
      "userId": "06814234566595318222"
     },
     "user_tz": 300
    },
    "id": "Gr9gesiCybFa",
    "outputId": "905c73cf-5fd9-40d4-c612-d9932f33bb15"
   },
   "outputs": [
    {
     "data": {
      "text/plain": [
       "array([ 1., -1.])"
      ]
     },
     "execution_count": 21,
     "metadata": {},
     "output_type": "execute_result"
    }
   ],
   "source": [
    "# Your code here:\n",
    "\n",
    "a = np.array([[5, 2], [3, 1]])\n",
    "b = np.array([3, 2])\n",
    "x = solve(a, b)\n",
    "x"
   ]
  },
  {
   "cell_type": "markdown",
   "metadata": {
    "id": "EqqydswjybFa"
   },
   "source": [
    "# Challenge 3 - The `interpolate` submodule\n",
    "\n",
    "This submodule allows us to interpolate between two points and create a continuous distribution based on the observed data.\n",
    "\n",
    "In the cell below, import the `interp1d` function and first take a sample of 10 rows from `kickstarter`. "
   ]
  },
  {
   "cell_type": "markdown",
   "metadata": {
    "id": "rlsC7-XywzYN"
   },
   "source": [
    "How to interpolate:\n",
    "\n",
    "https://www.geeksforgeeks.org/python-random-sample-function/#:~:text=sample()%20is%20an%20inbuilt,for%20random%20sampling%20without%20replacement.&text=Returns%3A%20k%20length%20new%20list%20of%20elements%20chosen%20from%20the%20sequence.\n",
    "\n",
    "How to interpolate:\n",
    "\n",
    "https://docs.scipy.org/doc/scipy/reference/generated/scipy.interpolate.interp1d.html"
   ]
  },
  {
   "cell_type": "code",
   "execution_count": 22,
   "metadata": {
    "colab": {
     "base_uri": "https://localhost:8080/",
     "height": 625
    },
    "executionInfo": {
     "elapsed": 197,
     "status": "ok",
     "timestamp": 1622858164986,
     "user": {
      "displayName": "irving palacios",
      "photoUrl": "https://lh3.googleusercontent.com/a-/AOh14Gjw6M4LpzTUVro1G-5_aqYZYQhXb8NkvR-4cdiB=s64",
      "userId": "06814234566595318222"
     },
     "user_tz": 300
    },
    "id": "yW0ijLqwybFb",
    "outputId": "4b79558c-1916-4f18-d2b1-7a533b4a14bb"
   },
   "outputs": [
    {
     "data": {
      "text/html": [
       "<div>\n",
       "<style scoped>\n",
       "    .dataframe tbody tr th:only-of-type {\n",
       "        vertical-align: middle;\n",
       "    }\n",
       "\n",
       "    .dataframe tbody tr th {\n",
       "        vertical-align: top;\n",
       "    }\n",
       "\n",
       "    .dataframe thead th {\n",
       "        text-align: right;\n",
       "    }\n",
       "</style>\n",
       "<table border=\"1\" class=\"dataframe\">\n",
       "  <thead>\n",
       "    <tr style=\"text-align: right;\">\n",
       "      <th></th>\n",
       "      <th>ID</th>\n",
       "      <th>name</th>\n",
       "      <th>category</th>\n",
       "      <th>main_category</th>\n",
       "      <th>currency</th>\n",
       "      <th>deadline</th>\n",
       "      <th>goal</th>\n",
       "      <th>launched</th>\n",
       "      <th>pledged</th>\n",
       "      <th>state</th>\n",
       "      <th>backers</th>\n",
       "      <th>country</th>\n",
       "      <th>usd pledged</th>\n",
       "      <th>usd_pledged_real</th>\n",
       "      <th>usd_goal_real</th>\n",
       "      <th>goal_met</th>\n",
       "      <th>usd</th>\n",
       "    </tr>\n",
       "  </thead>\n",
       "  <tbody>\n",
       "    <tr>\n",
       "      <th>120034</th>\n",
       "      <td>1609704008</td>\n",
       "      <td>\"Yonchi\" Graphic Novel (Canceled)</td>\n",
       "      <td>Comics</td>\n",
       "      <td>Comics</td>\n",
       "      <td>USD</td>\n",
       "      <td>2012-08-18</td>\n",
       "      <td>2200.0</td>\n",
       "      <td>2012-07-18 02:00:10</td>\n",
       "      <td>125.0</td>\n",
       "      <td>canceled</td>\n",
       "      <td>5</td>\n",
       "      <td>US</td>\n",
       "      <td>125.00</td>\n",
       "      <td>125.00</td>\n",
       "      <td>2200.00</td>\n",
       "      <td>0</td>\n",
       "      <td>1</td>\n",
       "    </tr>\n",
       "    <tr>\n",
       "      <th>22566</th>\n",
       "      <td>1114532884</td>\n",
       "      <td>CHICAGO Metrics™</td>\n",
       "      <td>Software</td>\n",
       "      <td>Technology</td>\n",
       "      <td>USD</td>\n",
       "      <td>2017-12-23</td>\n",
       "      <td>4000.0</td>\n",
       "      <td>2017-11-28 05:03:34</td>\n",
       "      <td>4350.0</td>\n",
       "      <td>successful</td>\n",
       "      <td>4</td>\n",
       "      <td>US</td>\n",
       "      <td>0.00</td>\n",
       "      <td>4350.00</td>\n",
       "      <td>4000.00</td>\n",
       "      <td>1</td>\n",
       "      <td>1</td>\n",
       "    </tr>\n",
       "    <tr>\n",
       "      <th>265956</th>\n",
       "      <td>42293195</td>\n",
       "      <td>Jacob &amp; Sköld watches - Timeless Swedish design</td>\n",
       "      <td>Product Design</td>\n",
       "      <td>Design</td>\n",
       "      <td>SEK</td>\n",
       "      <td>2016-01-21</td>\n",
       "      <td>240000.0</td>\n",
       "      <td>2015-12-07 11:59:40</td>\n",
       "      <td>366580.0</td>\n",
       "      <td>successful</td>\n",
       "      <td>255</td>\n",
       "      <td>SE</td>\n",
       "      <td>43205.79</td>\n",
       "      <td>42722.45</td>\n",
       "      <td>27970.40</td>\n",
       "      <td>1</td>\n",
       "      <td>0</td>\n",
       "    </tr>\n",
       "    <tr>\n",
       "      <th>275715</th>\n",
       "      <td>472958191</td>\n",
       "      <td>ADAMS CALL FULL LENGTH ALBUM</td>\n",
       "      <td>Faith</td>\n",
       "      <td>Music</td>\n",
       "      <td>USD</td>\n",
       "      <td>2014-08-29</td>\n",
       "      <td>14000.0</td>\n",
       "      <td>2014-07-30 01:01:36</td>\n",
       "      <td>3566.0</td>\n",
       "      <td>failed</td>\n",
       "      <td>56</td>\n",
       "      <td>US</td>\n",
       "      <td>3566.00</td>\n",
       "      <td>3566.00</td>\n",
       "      <td>14000.00</td>\n",
       "      <td>0</td>\n",
       "      <td>1</td>\n",
       "    </tr>\n",
       "    <tr>\n",
       "      <th>116652</th>\n",
       "      <td>1592644095</td>\n",
       "      <td>Project Mojo</td>\n",
       "      <td>Webseries</td>\n",
       "      <td>Film &amp; Video</td>\n",
       "      <td>CAD</td>\n",
       "      <td>2015-10-06</td>\n",
       "      <td>4000.0</td>\n",
       "      <td>2015-09-08 21:23:59</td>\n",
       "      <td>0.0</td>\n",
       "      <td>failed</td>\n",
       "      <td>0</td>\n",
       "      <td>CA</td>\n",
       "      <td>0.00</td>\n",
       "      <td>0.00</td>\n",
       "      <td>3092.15</td>\n",
       "      <td>0</td>\n",
       "      <td>0</td>\n",
       "    </tr>\n",
       "    <tr>\n",
       "      <th>130556</th>\n",
       "      <td>1662834392</td>\n",
       "      <td>Love at First Chat</td>\n",
       "      <td>Shorts</td>\n",
       "      <td>Film &amp; Video</td>\n",
       "      <td>USD</td>\n",
       "      <td>2011-03-08</td>\n",
       "      <td>2500.0</td>\n",
       "      <td>2011-02-06 01:41:01</td>\n",
       "      <td>50.0</td>\n",
       "      <td>failed</td>\n",
       "      <td>3</td>\n",
       "      <td>US</td>\n",
       "      <td>50.00</td>\n",
       "      <td>50.00</td>\n",
       "      <td>2500.00</td>\n",
       "      <td>0</td>\n",
       "      <td>1</td>\n",
       "    </tr>\n",
       "    <tr>\n",
       "      <th>123692</th>\n",
       "      <td>1628027078</td>\n",
       "      <td>The Naked Option: a last resort</td>\n",
       "      <td>Shorts</td>\n",
       "      <td>Film &amp; Video</td>\n",
       "      <td>USD</td>\n",
       "      <td>2010-10-15</td>\n",
       "      <td>10000.0</td>\n",
       "      <td>2010-08-31 23:54:12</td>\n",
       "      <td>260.0</td>\n",
       "      <td>failed</td>\n",
       "      <td>7</td>\n",
       "      <td>US</td>\n",
       "      <td>260.00</td>\n",
       "      <td>260.00</td>\n",
       "      <td>10000.00</td>\n",
       "      <td>0</td>\n",
       "      <td>1</td>\n",
       "    </tr>\n",
       "    <tr>\n",
       "      <th>195642</th>\n",
       "      <td>1996310112</td>\n",
       "      <td>Support The Segment</td>\n",
       "      <td>Hip-Hop</td>\n",
       "      <td>Music</td>\n",
       "      <td>USD</td>\n",
       "      <td>2012-03-26</td>\n",
       "      <td>1100.0</td>\n",
       "      <td>2012-02-03 04:26:48</td>\n",
       "      <td>1205.0</td>\n",
       "      <td>successful</td>\n",
       "      <td>47</td>\n",
       "      <td>US</td>\n",
       "      <td>1205.00</td>\n",
       "      <td>1205.00</td>\n",
       "      <td>1100.00</td>\n",
       "      <td>1</td>\n",
       "      <td>1</td>\n",
       "    </tr>\n",
       "    <tr>\n",
       "      <th>237914</th>\n",
       "      <td>279649813</td>\n",
       "      <td>Artists Across America</td>\n",
       "      <td>Art</td>\n",
       "      <td>Art</td>\n",
       "      <td>USD</td>\n",
       "      <td>2016-10-15</td>\n",
       "      <td>2000.0</td>\n",
       "      <td>2016-08-16 20:55:00</td>\n",
       "      <td>15.0</td>\n",
       "      <td>canceled</td>\n",
       "      <td>1</td>\n",
       "      <td>US</td>\n",
       "      <td>0.00</td>\n",
       "      <td>15.00</td>\n",
       "      <td>2000.00</td>\n",
       "      <td>0</td>\n",
       "      <td>1</td>\n",
       "    </tr>\n",
       "    <tr>\n",
       "      <th>240403</th>\n",
       "      <td>292731416</td>\n",
       "      <td>A mobile second screen for your laptop!</td>\n",
       "      <td>Gadgets</td>\n",
       "      <td>Technology</td>\n",
       "      <td>USD</td>\n",
       "      <td>2017-03-24</td>\n",
       "      <td>10000.0</td>\n",
       "      <td>2017-02-22 16:03:00</td>\n",
       "      <td>10990.0</td>\n",
       "      <td>successful</td>\n",
       "      <td>88</td>\n",
       "      <td>US</td>\n",
       "      <td>1119.00</td>\n",
       "      <td>10990.00</td>\n",
       "      <td>10000.00</td>\n",
       "      <td>1</td>\n",
       "      <td>1</td>\n",
       "    </tr>\n",
       "  </tbody>\n",
       "</table>\n",
       "</div>"
      ],
      "text/plain": [
       "                ID                                             name  \\\n",
       "120034  1609704008                \"Yonchi\" Graphic Novel (Canceled)   \n",
       "22566   1114532884                                 CHICAGO Metrics™   \n",
       "265956    42293195  Jacob & Sköld watches - Timeless Swedish design   \n",
       "275715   472958191                     ADAMS CALL FULL LENGTH ALBUM   \n",
       "116652  1592644095                                     Project Mojo   \n",
       "130556  1662834392                               Love at First Chat   \n",
       "123692  1628027078                  The Naked Option: a last resort   \n",
       "195642  1996310112                              Support The Segment   \n",
       "237914   279649813                           Artists Across America   \n",
       "240403   292731416          A mobile second screen for your laptop!   \n",
       "\n",
       "              category main_category currency    deadline      goal  \\\n",
       "120034          Comics        Comics      USD  2012-08-18    2200.0   \n",
       "22566         Software    Technology      USD  2017-12-23    4000.0   \n",
       "265956  Product Design        Design      SEK  2016-01-21  240000.0   \n",
       "275715           Faith         Music      USD  2014-08-29   14000.0   \n",
       "116652       Webseries  Film & Video      CAD  2015-10-06    4000.0   \n",
       "130556          Shorts  Film & Video      USD  2011-03-08    2500.0   \n",
       "123692          Shorts  Film & Video      USD  2010-10-15   10000.0   \n",
       "195642         Hip-Hop         Music      USD  2012-03-26    1100.0   \n",
       "237914             Art           Art      USD  2016-10-15    2000.0   \n",
       "240403         Gadgets    Technology      USD  2017-03-24   10000.0   \n",
       "\n",
       "                   launched   pledged       state  backers country  \\\n",
       "120034  2012-07-18 02:00:10     125.0    canceled        5      US   \n",
       "22566   2017-11-28 05:03:34    4350.0  successful        4      US   \n",
       "265956  2015-12-07 11:59:40  366580.0  successful      255      SE   \n",
       "275715  2014-07-30 01:01:36    3566.0      failed       56      US   \n",
       "116652  2015-09-08 21:23:59       0.0      failed        0      CA   \n",
       "130556  2011-02-06 01:41:01      50.0      failed        3      US   \n",
       "123692  2010-08-31 23:54:12     260.0      failed        7      US   \n",
       "195642  2012-02-03 04:26:48    1205.0  successful       47      US   \n",
       "237914  2016-08-16 20:55:00      15.0    canceled        1      US   \n",
       "240403  2017-02-22 16:03:00   10990.0  successful       88      US   \n",
       "\n",
       "        usd pledged  usd_pledged_real  usd_goal_real  goal_met  usd  \n",
       "120034       125.00            125.00        2200.00         0    1  \n",
       "22566          0.00           4350.00        4000.00         1    1  \n",
       "265956     43205.79          42722.45       27970.40         1    0  \n",
       "275715      3566.00           3566.00       14000.00         0    1  \n",
       "116652         0.00              0.00        3092.15         0    0  \n",
       "130556        50.00             50.00        2500.00         0    1  \n",
       "123692       260.00            260.00       10000.00         0    1  \n",
       "195642      1205.00           1205.00        1100.00         1    1  \n",
       "237914         0.00             15.00        2000.00         0    1  \n",
       "240403      1119.00          10990.00       10000.00         1    1  "
      ]
     },
     "execution_count": 22,
     "metadata": {},
     "output_type": "execute_result"
    }
   ],
   "source": [
    "# Your code here:\n",
    "from scipy.interpolate import interp1d\n",
    "from random import sample\n",
    "\n",
    "\n",
    "kickstarter2=kickstarter.sample(10)\n",
    "kickstarter2"
   ]
  },
  {
   "cell_type": "code",
   "execution_count": 23,
   "metadata": {
    "colab": {
     "base_uri": "https://localhost:8080/"
    },
    "executionInfo": {
     "elapsed": 176,
     "status": "ok",
     "timestamp": 1622858169112,
     "user": {
      "displayName": "irving palacios",
      "photoUrl": "https://lh3.googleusercontent.com/a-/AOh14Gjw6M4LpzTUVro1G-5_aqYZYQhXb8NkvR-4cdiB=s64",
      "userId": "06814234566595318222"
     },
     "user_tz": 300
    },
    "id": "FYHPh87vrn9r",
    "outputId": "4c3ed1e1-53ab-4b79-fe5b-fc09dd93aeaf"
   },
   "outputs": [
    {
     "name": "stdout",
     "output_type": "stream",
     "text": [
      "Index(['ID', 'name', 'category', 'main_category', 'currency', 'deadline',\n",
      "       'goal', 'launched', 'pledged', 'state', 'backers', 'country',\n",
      "       'usd pledged', 'usd_pledged_real', 'usd_goal_real', 'goal_met', 'usd'],\n",
      "      dtype='object')\n"
     ]
    }
   ],
   "source": [
    "print(kickstarter2.columns)"
   ]
  },
  {
   "cell_type": "markdown",
   "metadata": {
    "id": "L9WePZqPybFb"
   },
   "source": [
    "Next, create a linear interpolation of the backers as a function of `usd_pledged_real`. Create a function `f` that generates a linear interpolation of backers as predicted by the amount of real pledged dollars."
   ]
  },
  {
   "cell_type": "code",
   "execution_count": 24,
   "metadata": {
    "executionInfo": {
     "elapsed": 142,
     "status": "ok",
     "timestamp": 1622858173117,
     "user": {
      "displayName": "irving palacios",
      "photoUrl": "https://lh3.googleusercontent.com/a-/AOh14Gjw6M4LpzTUVro1G-5_aqYZYQhXb8NkvR-4cdiB=s64",
      "userId": "06814234566595318222"
     },
     "user_tz": 300
    },
    "id": "6HTHSP3uxjq5"
   },
   "outputs": [],
   "source": [
    "# Your code here:\n",
    "\n",
    "\n",
    "f =interp1d(kickstarter2.usd_pledged_real,kickstarter2.backers)"
   ]
  },
  {
   "cell_type": "markdown",
   "metadata": {
    "id": "DY8cmO7BybFc"
   },
   "source": [
    "Now create a new variable called `x_new`. This variable will contain all integers between the minimum number of backers in our sample and the maximum number of backers. The goal here is to take the dataset that contains few obeservations due to sampling and fill all observations with a value using the interpolation function. \n",
    "\n",
    "Hint: one option is the `np.arange` function."
   ]
  },
  {
   "cell_type": "code",
   "execution_count": 25,
   "metadata": {
    "executionInfo": {
     "elapsed": 240,
     "status": "ok",
     "timestamp": 1622858176338,
     "user": {
      "displayName": "irving palacios",
      "photoUrl": "https://lh3.googleusercontent.com/a-/AOh14Gjw6M4LpzTUVro1G-5_aqYZYQhXb8NkvR-4cdiB=s64",
      "userId": "06814234566595318222"
     },
     "user_tz": 300
    },
    "id": "JsLkkPFLybFc"
   },
   "outputs": [],
   "source": [
    "# Your code here:\n",
    "\n",
    "x_new = np.arange(kickstarter2.backers.min(),kickstarter2.backers.max()+1)"
   ]
  },
  {
   "cell_type": "markdown",
   "metadata": {
    "id": "eCMCFCPDybFd"
   },
   "source": [
    "Plot function f for all values of `x_new`. Run the code below."
   ]
  },
  {
   "cell_type": "code",
   "execution_count": 26,
   "metadata": {
    "colab": {
     "base_uri": "https://localhost:8080/",
     "height": 282
    },
    "executionInfo": {
     "elapsed": 281,
     "status": "ok",
     "timestamp": 1622858181472,
     "user": {
      "displayName": "irving palacios",
      "photoUrl": "https://lh3.googleusercontent.com/a-/AOh14Gjw6M4LpzTUVro1G-5_aqYZYQhXb8NkvR-4cdiB=s64",
      "userId": "06814234566595318222"
     },
     "user_tz": 300
    },
    "id": "wFBVU3c3ybFd",
    "outputId": "78fb3a36-5705-4a2c-8bd3-5c8a79c5323d"
   },
   "outputs": [
    {
     "data": {
      "text/plain": [
       "[<matplotlib.lines.Line2D at 0x7ff44badd9d0>]"
      ]
     },
     "execution_count": 26,
     "metadata": {},
     "output_type": "execute_result"
    },
    {
     "data": {
      "image/png": "[encoded data removed]",
      "text/plain": [
       "<Figure size 432x288 with 1 Axes>"
      ]
     },
     "metadata": {
      "needs_background": "light"
     },
     "output_type": "display_data"
    }
   ],
   "source": [
    "# Run this code:\n",
    "\n",
    "%matplotlib inline\n",
    "import matplotlib.pyplot as plt\n",
    "\n",
    "plt.plot(x_new, f(x_new))"
   ]
  },
  {
   "cell_type": "markdown",
   "metadata": {
    "id": "9xg0MOVDybFe"
   },
   "source": [
    "Next create a function that will generate a cubic interpolation function. Name the function `g`"
   ]
  },
  {
   "cell_type": "code",
   "execution_count": 27,
   "metadata": {
    "colab": {
     "base_uri": "https://localhost:8080/",
     "height": 465
    },
    "executionInfo": {
     "elapsed": 195,
     "status": "error",
     "timestamp": 1622859110117,
     "user": {
      "displayName": "irving palacios",
      "photoUrl": "https://lh3.googleusercontent.com/a-/AOh14Gjw6M4LpzTUVro1G-5_aqYZYQhXb8NkvR-4cdiB=s64",
      "userId": "06814234566595318222"
     },
     "user_tz": 300
    },
    "id": "8Zuo22N3ybFe",
    "outputId": "7769b39b-7309-4aed-bb34-f7a9946ebeed"
   },
   "outputs": [
    {
     "ename": "ValueError",
     "evalue": "Expect x to not have duplicates",
     "output_type": "error",
     "traceback": [
      "\u001b[0;31m---------------------------------------------------------------------------\u001b[0m",
      "\u001b[0;31mValueError\u001b[0m                                Traceback (most recent call last)",
      "\u001b[0;32m<ipython-input-27-767277218958>\u001b[0m in \u001b[0;36m<module>\u001b[0;34m\u001b[0m\n\u001b[1;32m      7\u001b[0m \u001b[0;31m#x_new = np.arange(0, x.max(), 1)\u001b[0m\u001b[0;34m\u001b[0m\u001b[0;34m\u001b[0m\u001b[0;34m\u001b[0m\u001b[0m\n\u001b[1;32m      8\u001b[0m \u001b[0mx\u001b[0m\u001b[0;34m\u001b[0m\u001b[0;34m\u001b[0m\u001b[0m\n\u001b[0;32m----> 9\u001b[0;31m \u001b[0mg\u001b[0m \u001b[0;34m=\u001b[0m \u001b[0minterp1d\u001b[0m\u001b[0;34m(\u001b[0m\u001b[0mx\u001b[0m\u001b[0;34m,\u001b[0m\u001b[0my\u001b[0m\u001b[0;34m,\u001b[0m \u001b[0mkind\u001b[0m\u001b[0;34m=\u001b[0m \u001b[0;34m'cubic'\u001b[0m\u001b[0;34m)\u001b[0m\u001b[0;34m\u001b[0m\u001b[0;34m\u001b[0m\u001b[0m\n\u001b[0m",
      "\u001b[0;32m~/opt/anaconda3/lib/python3.8/site-packages/scipy/interpolate/interpolate.py\u001b[0m in \u001b[0;36m__init__\u001b[0;34m(***failed resolving arguments***)\u001b[0m\n\u001b[1;32m    526\u001b[0m                     \u001b[0mrewrite_nan\u001b[0m \u001b[0;34m=\u001b[0m \u001b[0;32mTrue\u001b[0m\u001b[0;34m\u001b[0m\u001b[0;34m\u001b[0m\u001b[0m\n\u001b[1;32m    527\u001b[0m \u001b[0;34m\u001b[0m\u001b[0m\n\u001b[0;32m--> 528\u001b[0;31m             self._spline = make_interp_spline(xx, yy, k=order,\n\u001b[0m\u001b[1;32m    529\u001b[0m                                               check_finite=False)\n\u001b[1;32m    530\u001b[0m             \u001b[0;32mif\u001b[0m \u001b[0mrewrite_nan\u001b[0m\u001b[0;34m:\u001b[0m\u001b[0;34m\u001b[0m\u001b[0;34m\u001b[0m\u001b[0m\n",
      "\u001b[0;32m~/opt/anaconda3/lib/python3.8/site-packages/scipy/interpolate/_bsplines.py\u001b[0m in \u001b[0;36mmake_interp_spline\u001b[0;34m(x, y, k, t, bc_type, axis, check_finite)\u001b[0m\n\u001b[1;32m    787\u001b[0m         \u001b[0;32mraise\u001b[0m \u001b[0mValueError\u001b[0m\u001b[0;34m(\u001b[0m\u001b[0;34m\"Expect x to be a 1-D sorted array_like.\"\u001b[0m\u001b[0;34m)\u001b[0m\u001b[0;34m\u001b[0m\u001b[0;34m\u001b[0m\u001b[0m\n\u001b[1;32m    788\u001b[0m     \u001b[0;32mif\u001b[0m \u001b[0mnp\u001b[0m\u001b[0;34m.\u001b[0m\u001b[0many\u001b[0m\u001b[0;34m(\u001b[0m\u001b[0mx\u001b[0m\u001b[0;34m[\u001b[0m\u001b[0;36m1\u001b[0m\u001b[0;34m:\u001b[0m\u001b[0;34m]\u001b[0m \u001b[0;34m==\u001b[0m \u001b[0mx\u001b[0m\u001b[0;34m[\u001b[0m\u001b[0;34m:\u001b[0m\u001b[0;34m-\u001b[0m\u001b[0;36m1\u001b[0m\u001b[0;34m]\u001b[0m\u001b[0;34m)\u001b[0m\u001b[0;34m:\u001b[0m\u001b[0;34m\u001b[0m\u001b[0;34m\u001b[0m\u001b[0m\n\u001b[0;32m--> 789\u001b[0;31m         \u001b[0;32mraise\u001b[0m \u001b[0mValueError\u001b[0m\u001b[0;34m(\u001b[0m\u001b[0;34m\"Expect x to not have duplicates\"\u001b[0m\u001b[0;34m)\u001b[0m\u001b[0;34m\u001b[0m\u001b[0;34m\u001b[0m\u001b[0m\n\u001b[0m\u001b[1;32m    790\u001b[0m     \u001b[0;32mif\u001b[0m \u001b[0mk\u001b[0m \u001b[0;34m<\u001b[0m \u001b[0;36m0\u001b[0m\u001b[0;34m:\u001b[0m\u001b[0;34m\u001b[0m\u001b[0;34m\u001b[0m\u001b[0m\n\u001b[1;32m    791\u001b[0m         \u001b[0;32mraise\u001b[0m \u001b[0mValueError\u001b[0m\u001b[0;34m(\u001b[0m\u001b[0;34m\"Expect non-negative k.\"\u001b[0m\u001b[0;34m)\u001b[0m\u001b[0;34m\u001b[0m\u001b[0;34m\u001b[0m\u001b[0m\n",
      "\u001b[0;31mValueError\u001b[0m: Expect x to not have duplicates"
     ]
    }
   ],
   "source": [
    "# Your code here:\n",
    "sample=kickstarter.sample(n =100).drop_duplicates()\n",
    "\n",
    "y = sample.usd_pledged_real\n",
    "x = sample.backers.sort_values()\n",
    "\n",
    "#x_new = np.arange(0, x.max(), 1)\n",
    "x\n",
    "g = interp1d(x,y, kind= 'cubic')"
   ]
  },
  {
   "cell_type": "code",
   "execution_count": null,
   "metadata": {
    "executionInfo": {
     "elapsed": 132,
     "status": "aborted",
     "timestamp": 1622857841098,
     "user": {
      "displayName": "irving palacios",
      "photoUrl": "https://lh3.googleusercontent.com/a-/AOh14Gjw6M4LpzTUVro1G-5_aqYZYQhXb8NkvR-4cdiB=s64",
      "userId": "06814234566595318222"
     },
     "user_tz": 300
    },
    "id": "ikVTUp7VybFe"
   },
   "outputs": [],
   "source": [
    "# Run this code:\n",
    "\n",
    "plt.plot(x_new, g(x_new))"
   ]
  },
  {
   "cell_type": "markdown",
   "metadata": {
    "id": "jv668yC9ybFe"
   },
   "source": [
    "# Bonus Challenge - The Binomial Distribution\n",
    "\n",
    "The binomial distribution allows us to calculate the probability of k successes in n trials for a random variable with two possible outcomes (which we typically label success and failure).  \n",
    "\n",
    "The probability of success is typically denoted by p and the probability of failure is denoted by 1-p.\n",
    "\n",
    "The `scipy.stats` submodule contains a `binom` function for computing the probabilites of a random variable with the binomial distribution. You may read more about the binomial distribution [here](https://en.wikipedia.org/wiki/Binomial_distribution) and about the `binom` function [here](https://docs.scipy.org/doc/scipy/reference/generated/scipy.stats.binom.html#scipy.stats.binom).\n",
    "\n",
    "In the cell below, compute the probability that a die lands on 5 exactly 3 times in 8 tries.\n",
    "\n",
    "Hint: the probability of rolling a 5 is 1/6."
   ]
  },
  {
   "cell_type": "code",
   "execution_count": 30,
   "metadata": {
    "executionInfo": {
     "elapsed": 141,
     "status": "ok",
     "timestamp": 1622858733608,
     "user": {
      "displayName": "irving palacios",
      "photoUrl": "https://lh3.googleusercontent.com/a-/AOh14Gjw6M4LpzTUVro1G-5_aqYZYQhXb8NkvR-4cdiB=s64",
      "userId": "06814234566595318222"
     },
     "user_tz": 300
    },
    "id": "NNR6d6PaybFf"
   },
   "outputs": [],
   "source": [
    "# Your code here:\n",
    "\n",
    "from scipy.stats import binom"
   ]
  },
  {
   "cell_type": "markdown",
   "metadata": {
    "id": "386Z9KBR6U8_"
   },
   "source": [
    "![download.jpg](data:image/jpeg;base64,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)"
   ]
  },
  {
   "cell_type": "code",
   "execution_count": 31,
   "metadata": {
    "colab": {
     "base_uri": "https://localhost:8080/"
    },
    "executionInfo": {
     "elapsed": 261,
     "status": "ok",
     "timestamp": 1622858921426,
     "user": {
      "displayName": "irving palacios",
      "photoUrl": "https://lh3.googleusercontent.com/a-/AOh14Gjw6M4LpzTUVro1G-5_aqYZYQhXb8NkvR-4cdiB=s64",
      "userId": "06814234566595318222"
     },
     "user_tz": 300
    },
    "id": "lI5Pe6CzybFf",
    "outputId": "ff8fb611-81b0-4fa9-d28c-7eb7a12ddf3b"
   },
   "outputs": [
    {
     "name": "stdout",
     "output_type": "stream",
     "text": [
      "10.419048163389729 %\n"
     ]
    }
   ],
   "source": [
    "print((binom.pmf(3,8,1/6)*100),'%')"
   ]
  },
  {
   "cell_type": "code",
   "execution_count": null,
   "metadata": {},
   "outputs": [],
   "source": []
  }
 ],
 "metadata": {
  "colab": {
   "collapsed_sections": [],
   "name": "main.ipynb",
   "provenance": []
  },
  "kernelspec": {
   "display_name": "Python 3",
   "language": "python",
   "name": "python3"
  },
  "language_info": {
   "codemirror_mode": {
    "name": "ipython",
    "version": 3
   },
   "file_extension": ".py",
   "mimetype": "text/x-python",
   "name": "python",
   "nbconvert_exporter": "python",
   "pygments_lexer": "ipython3",
   "version": "3.8.5"
  }
 },
 "nbformat": 4,
 "nbformat_minor": 4
}
